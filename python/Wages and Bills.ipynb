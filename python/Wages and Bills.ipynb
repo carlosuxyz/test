{
 "cells": [
  {
   "cell_type": "markdown",
   "metadata": {},
   "source": [
    "# Wages and Bills"
   ]
  },
  {
   "cell_type": "code",
   "execution_count": 1,
   "metadata": {},
   "outputs": [
    {
     "name": "stdout",
     "output_type": "stream",
     "text": [
      "205469.04 200811.40999999997 4657.630000000034\n"
     ]
    },
    {
     "data": {
      "text/plain": [
       "18.6"
      ]
     },
     "execution_count": 1,
     "metadata": {},
     "output_type": "execute_result"
    }
   ],
   "source": [
    "wages = 23253.66+12122.91*4\n",
    "transfer = 80000+1171+4+300+100+7200+3800+5.38+11999.8+1204.38\n",
    "transferyuebao = 12030.18+10800\n",
    "expense = 2938+2171\n",
    "out2yuebao = 12000+12000+12000+12000+100+3800+7200\n",
    "outcampuscard = 200*12\n",
    "outcreditcard = 747.5\n",
    "outtransfer = 11760+10000+9600+0.01+3+2000+10000\n",
    "outconsumption = 200.9+95000\n",
    "input_money = wages+transfer+expense+transferyuebao\n",
    "output_money = out2yuebao+outcampuscard+outcreditcard+outtransfer+outconsumption\n",
    "print(input_money,output_money,input_money-output_money)\n",
    "41.1-22.5"
   ]
  },
  {
   "cell_type": "code",
   "execution_count": null,
   "metadata": {},
   "outputs": [],
   "source": []
  }
 ],
 "metadata": {
  "kernelspec": {
   "display_name": "Python 3",
   "language": "python",
   "name": "python3"
  },
  "language_info": {
   "codemirror_mode": {
    "name": "ipython",
    "version": 3
   },
   "file_extension": ".py",
   "mimetype": "text/x-python",
   "name": "python",
   "nbconvert_exporter": "python",
   "pygments_lexer": "ipython3",
   "version": "3.6.4"
  }
 },
 "nbformat": 4,
 "nbformat_minor": 2
}
